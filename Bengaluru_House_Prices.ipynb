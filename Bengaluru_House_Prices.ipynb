{
  "cells": [
    {
      "cell_type": "code",
      "execution_count": 1,
      "metadata": {
        "colab": {
          "base_uri": "https://localhost:8080/"
        },
        "id": "4KC6VI_ho8qk",
        "outputId": "c74b1332-05af-453e-f6ae-c0db3de21aab"
      },
      "outputs": [
        {
          "name": "stdout",
          "output_type": "stream",
          "text": [
            "Requirement already satisfied: scikit-learn in /opt/anaconda3/lib/python3.12/site-packages (1.7.1)\n",
            "Requirement already satisfied: numpy>=1.22.0 in /opt/anaconda3/lib/python3.12/site-packages (from scikit-learn) (1.26.4)\n",
            "Requirement already satisfied: scipy>=1.8.0 in /opt/anaconda3/lib/python3.12/site-packages (from scikit-learn) (1.13.1)\n",
            "Requirement already satisfied: joblib>=1.2.0 in /opt/anaconda3/lib/python3.12/site-packages (from scikit-learn) (1.5.1)\n",
            "Requirement already satisfied: threadpoolctl>=3.1.0 in /opt/anaconda3/lib/python3.12/site-packages (from scikit-learn) (3.5.0)\n",
            "Note: you may need to restart the kernel to use updated packages.\n"
          ]
        }
      ],
      "source": [
        "%pip install scikit-learn --upgrade"
      ]
    },
    {
      "cell_type": "code",
      "execution_count": 2,
      "metadata": {
        "id": "cPUrB846KUcZ"
      },
      "outputs": [],
      "source": [
        "import pandas as pd\n",
        "import numpy as np\n",
        "import matplotlib\n",
        "import matplotlib.pyplot as plt\n",
        "import pickle\n",
        "from sklearn.linear_model import LinearRegression, Lasso\n",
        "from sklearn.tree import DecisionTreeRegressor\n",
        "from sklearn.model_selection import train_test_split, GridSearchCV, ShuffleSplit, cross_val_score"
      ]
    },
    {
      "cell_type": "code",
      "execution_count": 3,
      "metadata": {
        "colab": {
          "base_uri": "https://localhost:8080/",
          "height": 206
        },
        "id": "w84l1TA4KZNA",
        "outputId": "768146ec-47d1-4d4a-d94c-5ab4fb4d1832"
      },
      "outputs": [
        {
          "data": {
            "text/html": [
              "<div>\n",
              "<style scoped>\n",
              "    .dataframe tbody tr th:only-of-type {\n",
              "        vertical-align: middle;\n",
              "    }\n",
              "\n",
              "    .dataframe tbody tr th {\n",
              "        vertical-align: top;\n",
              "    }\n",
              "\n",
              "    .dataframe thead th {\n",
              "        text-align: right;\n",
              "    }\n",
              "</style>\n",
              "<table border=\"1\" class=\"dataframe\">\n",
              "  <thead>\n",
              "    <tr style=\"text-align: right;\">\n",
              "      <th></th>\n",
              "      <th>area_type</th>\n",
              "      <th>availability</th>\n",
              "      <th>location</th>\n",
              "      <th>size</th>\n",
              "      <th>society</th>\n",
              "      <th>total_sqft</th>\n",
              "      <th>bath</th>\n",
              "      <th>balcony</th>\n",
              "      <th>price</th>\n",
              "    </tr>\n",
              "  </thead>\n",
              "  <tbody>\n",
              "    <tr>\n",
              "      <th>0</th>\n",
              "      <td>Super built-up  Area</td>\n",
              "      <td>19-Dec</td>\n",
              "      <td>Electronic City Phase II</td>\n",
              "      <td>2 BHK</td>\n",
              "      <td>Coomee</td>\n",
              "      <td>1056</td>\n",
              "      <td>2.0</td>\n",
              "      <td>1.0</td>\n",
              "      <td>39.07</td>\n",
              "    </tr>\n",
              "    <tr>\n",
              "      <th>1</th>\n",
              "      <td>Plot  Area</td>\n",
              "      <td>Ready To Move</td>\n",
              "      <td>Chikka Tirupathi</td>\n",
              "      <td>4 Bedroom</td>\n",
              "      <td>Theanmp</td>\n",
              "      <td>2600</td>\n",
              "      <td>5.0</td>\n",
              "      <td>3.0</td>\n",
              "      <td>120.00</td>\n",
              "    </tr>\n",
              "    <tr>\n",
              "      <th>2</th>\n",
              "      <td>Built-up  Area</td>\n",
              "      <td>Ready To Move</td>\n",
              "      <td>Uttarahalli</td>\n",
              "      <td>3 BHK</td>\n",
              "      <td>NaN</td>\n",
              "      <td>1440</td>\n",
              "      <td>2.0</td>\n",
              "      <td>3.0</td>\n",
              "      <td>62.00</td>\n",
              "    </tr>\n",
              "    <tr>\n",
              "      <th>3</th>\n",
              "      <td>Super built-up  Area</td>\n",
              "      <td>Ready To Move</td>\n",
              "      <td>Lingadheeranahalli</td>\n",
              "      <td>3 BHK</td>\n",
              "      <td>Soiewre</td>\n",
              "      <td>1521</td>\n",
              "      <td>3.0</td>\n",
              "      <td>1.0</td>\n",
              "      <td>95.00</td>\n",
              "    </tr>\n",
              "    <tr>\n",
              "      <th>4</th>\n",
              "      <td>Super built-up  Area</td>\n",
              "      <td>Ready To Move</td>\n",
              "      <td>Kothanur</td>\n",
              "      <td>2 BHK</td>\n",
              "      <td>NaN</td>\n",
              "      <td>1200</td>\n",
              "      <td>2.0</td>\n",
              "      <td>1.0</td>\n",
              "      <td>51.00</td>\n",
              "    </tr>\n",
              "  </tbody>\n",
              "</table>\n",
              "</div>"
            ],
            "text/plain": [
              "              area_type   availability                  location       size  \\\n",
              "0  Super built-up  Area         19-Dec  Electronic City Phase II      2 BHK   \n",
              "1            Plot  Area  Ready To Move          Chikka Tirupathi  4 Bedroom   \n",
              "2        Built-up  Area  Ready To Move               Uttarahalli      3 BHK   \n",
              "3  Super built-up  Area  Ready To Move        Lingadheeranahalli      3 BHK   \n",
              "4  Super built-up  Area  Ready To Move                  Kothanur      2 BHK   \n",
              "\n",
              "   society total_sqft  bath  balcony   price  \n",
              "0  Coomee        1056   2.0      1.0   39.07  \n",
              "1  Theanmp       2600   5.0      3.0  120.00  \n",
              "2      NaN       1440   2.0      3.0   62.00  \n",
              "3  Soiewre       1521   3.0      1.0   95.00  \n",
              "4      NaN       1200   2.0      1.0   51.00  "
            ]
          },
          "execution_count": 3,
          "metadata": {},
          "output_type": "execute_result"
        }
      ],
      "source": [
        "df = pd.read_csv(\"/Users/mohamoud/Desktop/test application/Bengaluru_House_Data.csv\")\n",
        "df.head()"
      ]
    },
    {
      "cell_type": "code",
      "execution_count": 4,
      "metadata": {
        "colab": {
          "base_uri": "https://localhost:8080/",
          "height": 81
        },
        "id": "oOkNxOtbKjKJ",
        "outputId": "2866013d-5ac0-4444-eeb0-3d74fe585b82"
      },
      "outputs": [
        {
          "data": {
            "text/html": [
              "<div>\n",
              "<style scoped>\n",
              "    .dataframe tbody tr th:only-of-type {\n",
              "        vertical-align: middle;\n",
              "    }\n",
              "\n",
              "    .dataframe tbody tr th {\n",
              "        vertical-align: top;\n",
              "    }\n",
              "\n",
              "    .dataframe thead th {\n",
              "        text-align: right;\n",
              "    }\n",
              "</style>\n",
              "<table border=\"1\" class=\"dataframe\">\n",
              "  <thead>\n",
              "    <tr style=\"text-align: right;\">\n",
              "      <th></th>\n",
              "      <th>location</th>\n",
              "      <th>size</th>\n",
              "      <th>total_sqft</th>\n",
              "      <th>bath</th>\n",
              "      <th>price</th>\n",
              "    </tr>\n",
              "  </thead>\n",
              "  <tbody>\n",
              "    <tr>\n",
              "      <th>0</th>\n",
              "      <td>Electronic City Phase II</td>\n",
              "      <td>2 BHK</td>\n",
              "      <td>1056</td>\n",
              "      <td>2.0</td>\n",
              "      <td>39.07</td>\n",
              "    </tr>\n",
              "  </tbody>\n",
              "</table>\n",
              "</div>"
            ],
            "text/plain": [
              "                   location   size total_sqft  bath  price\n",
              "0  Electronic City Phase II  2 BHK       1056   2.0  39.07"
            ]
          },
          "execution_count": 4,
          "metadata": {},
          "output_type": "execute_result"
        }
      ],
      "source": [
        "df = df.drop(['area_type', 'availability', 'society', 'balcony'], axis='columns')\n",
        "df = df.dropna()\n",
        "df.head(1)"
      ]
    },
    {
      "cell_type": "code",
      "execution_count": 6,
      "metadata": {
        "colab": {
          "base_uri": "https://localhost:8080/"
        },
        "id": "vv97K-EOKxjX",
        "outputId": "f64482a9-6f97-4aa2-b66d-42be13df8936"
      },
      "outputs": [
        {
          "data": {
            "text/plain": [
              "array([ 2,  4,  3,  6,  1,  8,  7,  5, 11,  9, 27, 10, 19, 16, 43, 14, 12,\n",
              "       13, 18])"
            ]
          },
          "execution_count": 6,
          "metadata": {},
          "output_type": "execute_result"
        }
      ],
      "source": [
        "df['bhk'] = df['size'].apply(lambda x: int(x.split()[0]))\n",
        "df['bhk'].unique()"
      ]
    },
    {
      "cell_type": "code",
      "execution_count": 7,
      "metadata": {
        "id": "yvNwceAiL-ah"
      },
      "outputs": [],
      "source": [
        "def convert_sqft_to_num(x):\n",
        "  tokens = x.split('-')\n",
        "  if len(tokens) == 2:\n",
        "    return (float(tokens[0]) + float(tokens[1]))/2\n",
        "  try:\n",
        "    return float(x)\n",
        "  except:\n",
        "    return None\n",
        "df['total_sqft'] = df['total_sqft'].apply(convert_sqft_to_num)"
      ]
    },
    {
      "cell_type": "code",
      "execution_count": 8,
      "metadata": {
        "colab": {
          "base_uri": "https://localhost:8080/"
        },
        "id": "eUKA_W86MplZ",
        "outputId": "c9b9069d-3711-4903-e737-01f2606a5229"
      },
      "outputs": [
        {
          "data": {
            "text/plain": [
              "location\n",
              "Whitefield                        534\n",
              "Sarjapur  Road                    392\n",
              "Electronic City                   302\n",
              "Kanakpura Road                    266\n",
              "Thanisandra                       233\n",
              "                                 ... \n",
              " Whitefield                         1\n",
              "1st Stage Domlur                    1\n",
              "1st Stage Radha Krishna Layout      1\n",
              "Wheelers Road                       1\n",
              "Byappanahalli                       1\n",
              "Name: location, Length: 1304, dtype: int64"
            ]
          },
          "execution_count": 8,
          "metadata": {},
          "output_type": "execute_result"
        }
      ],
      "source": [
        "location_stats = df.groupby('location')['location'].agg('count').sort_values(ascending=False)\n",
        "location_stats"
      ]
    },
    {
      "cell_type": "code",
      "execution_count": 9,
      "metadata": {
        "colab": {
          "base_uri": "https://localhost:8080/"
        },
        "id": "ghGRjdNuNzva",
        "outputId": "99932e89-391b-4486-9934-9d9eaf3e5250"
      },
      "outputs": [
        {
          "data": {
            "text/plain": [
              "location\n",
              "Dairy Circle                      10\n",
              "Dodsworth Layout                  10\n",
              "Ganga Nagar                       10\n",
              "Sadashiva Nagar                   10\n",
              "Nagadevanahalli                   10\n",
              "                                  ..\n",
              " Whitefield                        1\n",
              "1st Stage Domlur                   1\n",
              "1st Stage Radha Krishna Layout     1\n",
              "Wheelers Road                      1\n",
              "Byappanahalli                      1\n",
              "Name: location, Length: 1063, dtype: int64"
            ]
          },
          "execution_count": 9,
          "metadata": {},
          "output_type": "execute_result"
        }
      ],
      "source": [
        "location_stats_less_than_10 = location_stats[location_stats <= 10]\n",
        "location_stats_less_than_10"
      ]
    },
    {
      "cell_type": "code",
      "execution_count": 10,
      "metadata": {
        "colab": {
          "base_uri": "https://localhost:8080/",
          "height": 424
        },
        "id": "heyDK0IpN9DJ",
        "outputId": "8f020f1c-0413-4a1c-8efb-663336baec21"
      },
      "outputs": [
        {
          "data": {
            "text/html": [
              "<div>\n",
              "<style scoped>\n",
              "    .dataframe tbody tr th:only-of-type {\n",
              "        vertical-align: middle;\n",
              "    }\n",
              "\n",
              "    .dataframe tbody tr th {\n",
              "        vertical-align: top;\n",
              "    }\n",
              "\n",
              "    .dataframe thead th {\n",
              "        text-align: right;\n",
              "    }\n",
              "</style>\n",
              "<table border=\"1\" class=\"dataframe\">\n",
              "  <thead>\n",
              "    <tr style=\"text-align: right;\">\n",
              "      <th></th>\n",
              "      <th>location</th>\n",
              "      <th>size</th>\n",
              "      <th>total_sqft</th>\n",
              "      <th>bath</th>\n",
              "      <th>price</th>\n",
              "      <th>bhk</th>\n",
              "    </tr>\n",
              "  </thead>\n",
              "  <tbody>\n",
              "    <tr>\n",
              "      <th>9</th>\n",
              "      <td>Other</td>\n",
              "      <td>6 Bedroom</td>\n",
              "      <td>1020.0</td>\n",
              "      <td>6.0</td>\n",
              "      <td>370.00</td>\n",
              "      <td>6</td>\n",
              "    </tr>\n",
              "    <tr>\n",
              "      <th>18</th>\n",
              "      <td>Other</td>\n",
              "      <td>3 BHK</td>\n",
              "      <td>2770.0</td>\n",
              "      <td>4.0</td>\n",
              "      <td>290.00</td>\n",
              "      <td>3</td>\n",
              "    </tr>\n",
              "    <tr>\n",
              "      <th>19</th>\n",
              "      <td>Other</td>\n",
              "      <td>2 BHK</td>\n",
              "      <td>1100.0</td>\n",
              "      <td>2.0</td>\n",
              "      <td>48.00</td>\n",
              "      <td>2</td>\n",
              "    </tr>\n",
              "    <tr>\n",
              "      <th>24</th>\n",
              "      <td>Other</td>\n",
              "      <td>1 RK</td>\n",
              "      <td>510.0</td>\n",
              "      <td>1.0</td>\n",
              "      <td>25.25</td>\n",
              "      <td>1</td>\n",
              "    </tr>\n",
              "    <tr>\n",
              "      <th>25</th>\n",
              "      <td>Other</td>\n",
              "      <td>3 BHK</td>\n",
              "      <td>1250.0</td>\n",
              "      <td>3.0</td>\n",
              "      <td>56.00</td>\n",
              "      <td>3</td>\n",
              "    </tr>\n",
              "    <tr>\n",
              "      <th>...</th>\n",
              "      <td>...</td>\n",
              "      <td>...</td>\n",
              "      <td>...</td>\n",
              "      <td>...</td>\n",
              "      <td>...</td>\n",
              "      <td>...</td>\n",
              "    </tr>\n",
              "    <tr>\n",
              "      <th>13291</th>\n",
              "      <td>Other</td>\n",
              "      <td>1 Bedroom</td>\n",
              "      <td>812.0</td>\n",
              "      <td>1.0</td>\n",
              "      <td>26.00</td>\n",
              "      <td>1</td>\n",
              "    </tr>\n",
              "    <tr>\n",
              "      <th>13292</th>\n",
              "      <td>Other</td>\n",
              "      <td>3 BHK</td>\n",
              "      <td>1440.0</td>\n",
              "      <td>2.0</td>\n",
              "      <td>63.93</td>\n",
              "      <td>3</td>\n",
              "    </tr>\n",
              "    <tr>\n",
              "      <th>13302</th>\n",
              "      <td>Other</td>\n",
              "      <td>2 BHK</td>\n",
              "      <td>1075.0</td>\n",
              "      <td>2.0</td>\n",
              "      <td>48.00</td>\n",
              "      <td>2</td>\n",
              "    </tr>\n",
              "    <tr>\n",
              "      <th>13306</th>\n",
              "      <td>Other</td>\n",
              "      <td>4 Bedroom</td>\n",
              "      <td>1200.0</td>\n",
              "      <td>5.0</td>\n",
              "      <td>325.00</td>\n",
              "      <td>4</td>\n",
              "    </tr>\n",
              "    <tr>\n",
              "      <th>13316</th>\n",
              "      <td>Other</td>\n",
              "      <td>4 BHK</td>\n",
              "      <td>3600.0</td>\n",
              "      <td>5.0</td>\n",
              "      <td>400.00</td>\n",
              "      <td>4</td>\n",
              "    </tr>\n",
              "  </tbody>\n",
              "</table>\n",
              "<p>2896 rows × 6 columns</p>\n",
              "</div>"
            ],
            "text/plain": [
              "      location       size  total_sqft  bath   price  bhk\n",
              "9        Other  6 Bedroom      1020.0   6.0  370.00    6\n",
              "18       Other      3 BHK      2770.0   4.0  290.00    3\n",
              "19       Other      2 BHK      1100.0   2.0   48.00    2\n",
              "24       Other       1 RK       510.0   1.0   25.25    1\n",
              "25       Other      3 BHK      1250.0   3.0   56.00    3\n",
              "...        ...        ...         ...   ...     ...  ...\n",
              "13291    Other  1 Bedroom       812.0   1.0   26.00    1\n",
              "13292    Other      3 BHK      1440.0   2.0   63.93    3\n",
              "13302    Other      2 BHK      1075.0   2.0   48.00    2\n",
              "13306    Other  4 Bedroom      1200.0   5.0  325.00    4\n",
              "13316    Other      4 BHK      3600.0   5.0  400.00    4\n",
              "\n",
              "[2896 rows x 6 columns]"
            ]
          },
          "execution_count": 10,
          "metadata": {},
          "output_type": "execute_result"
        }
      ],
      "source": [
        "df['location'] = df['location'].apply(lambda x: 'Other' if x in location_stats_less_than_10 else x)\n",
        "df[df['location'] == 'Other']"
      ]
    },
    {
      "cell_type": "code",
      "execution_count": 11,
      "metadata": {
        "colab": {
          "base_uri": "https://localhost:8080/",
          "height": 206
        },
        "id": "-m3uhrAtJfsk",
        "outputId": "bb90c6b3-296b-46da-bad4-a4332b3aa4be"
      },
      "outputs": [
        {
          "data": {
            "text/html": [
              "<div>\n",
              "<style scoped>\n",
              "    .dataframe tbody tr th:only-of-type {\n",
              "        vertical-align: middle;\n",
              "    }\n",
              "\n",
              "    .dataframe tbody tr th {\n",
              "        vertical-align: top;\n",
              "    }\n",
              "\n",
              "    .dataframe thead th {\n",
              "        text-align: right;\n",
              "    }\n",
              "</style>\n",
              "<table border=\"1\" class=\"dataframe\">\n",
              "  <thead>\n",
              "    <tr style=\"text-align: right;\">\n",
              "      <th></th>\n",
              "      <th>location</th>\n",
              "      <th>size</th>\n",
              "      <th>total_sqft</th>\n",
              "      <th>bath</th>\n",
              "      <th>price</th>\n",
              "      <th>bhk</th>\n",
              "    </tr>\n",
              "  </thead>\n",
              "  <tbody>\n",
              "    <tr>\n",
              "      <th>0</th>\n",
              "      <td>Electronic City Phase II</td>\n",
              "      <td>2 BHK</td>\n",
              "      <td>1056.0</td>\n",
              "      <td>2.0</td>\n",
              "      <td>39.07</td>\n",
              "      <td>2</td>\n",
              "    </tr>\n",
              "    <tr>\n",
              "      <th>1</th>\n",
              "      <td>Chikka Tirupathi</td>\n",
              "      <td>4 Bedroom</td>\n",
              "      <td>2600.0</td>\n",
              "      <td>5.0</td>\n",
              "      <td>120.00</td>\n",
              "      <td>4</td>\n",
              "    </tr>\n",
              "    <tr>\n",
              "      <th>2</th>\n",
              "      <td>Uttarahalli</td>\n",
              "      <td>3 BHK</td>\n",
              "      <td>1440.0</td>\n",
              "      <td>2.0</td>\n",
              "      <td>62.00</td>\n",
              "      <td>3</td>\n",
              "    </tr>\n",
              "    <tr>\n",
              "      <th>3</th>\n",
              "      <td>Lingadheeranahalli</td>\n",
              "      <td>3 BHK</td>\n",
              "      <td>1521.0</td>\n",
              "      <td>3.0</td>\n",
              "      <td>95.00</td>\n",
              "      <td>3</td>\n",
              "    </tr>\n",
              "    <tr>\n",
              "      <th>4</th>\n",
              "      <td>Kothanur</td>\n",
              "      <td>2 BHK</td>\n",
              "      <td>1200.0</td>\n",
              "      <td>2.0</td>\n",
              "      <td>51.00</td>\n",
              "      <td>2</td>\n",
              "    </tr>\n",
              "  </tbody>\n",
              "</table>\n",
              "</div>"
            ],
            "text/plain": [
              "                   location       size  total_sqft  bath   price  bhk\n",
              "0  Electronic City Phase II      2 BHK      1056.0   2.0   39.07    2\n",
              "1          Chikka Tirupathi  4 Bedroom      2600.0   5.0  120.00    4\n",
              "2               Uttarahalli      3 BHK      1440.0   2.0   62.00    3\n",
              "3        Lingadheeranahalli      3 BHK      1521.0   3.0   95.00    3\n",
              "4                  Kothanur      2 BHK      1200.0   2.0   51.00    2"
            ]
          },
          "execution_count": 11,
          "metadata": {},
          "output_type": "execute_result"
        }
      ],
      "source": [
        "df.head()"
      ]
    },
    {
      "cell_type": "code",
      "execution_count": 12,
      "metadata": {
        "colab": {
          "base_uri": "https://localhost:8080/"
        },
        "id": "VXhaPrN2La8s",
        "outputId": "27bb70dd-1541-4778-94d5-6753bd0fbcc0"
      },
      "outputs": [
        {
          "data": {
            "text/plain": [
              "13246"
            ]
          },
          "execution_count": 12,
          "metadata": {},
          "output_type": "execute_result"
        }
      ],
      "source": [
        "len(df)"
      ]
    },
    {
      "cell_type": "code",
      "execution_count": 13,
      "metadata": {
        "colab": {
          "base_uri": "https://localhost:8080/"
        },
        "id": "HNq2Paa9KAP8",
        "outputId": "22f4ea70-f07a-41e3-d8d7-201307cfe25a"
      },
      "outputs": [
        {
          "data": {
            "text/plain": [
              "12502"
            ]
          },
          "execution_count": 13,
          "metadata": {},
          "output_type": "execute_result"
        }
      ],
      "source": [
        "df = df[~(df['total_sqft']/df['bhk']<300)]\n",
        "len(df)"
      ]
    },
    {
      "cell_type": "code",
      "execution_count": 14,
      "metadata": {
        "colab": {
          "base_uri": "https://localhost:8080/"
        },
        "id": "aKBh38kILnVs",
        "outputId": "8eae4a0b-684c-4a6d-dc8b-5eb3a951c1c0"
      },
      "outputs": [
        {
          "data": {
            "text/plain": [
              "count     12456.000000\n",
              "mean       6308.502826\n",
              "std        4168.127339\n",
              "min         267.829813\n",
              "25%        4210.526316\n",
              "50%        5294.117647\n",
              "75%        6916.666667\n",
              "max      176470.588235\n",
              "Name: price_per_sqft, dtype: float64"
            ]
          },
          "execution_count": 14,
          "metadata": {},
          "output_type": "execute_result"
        }
      ],
      "source": [
        "df['price_per_sqft'] = (df['price']*100000)/df['total_sqft']\n",
        "df['price_per_sqft'].describe()"
      ]
    },
    {
      "cell_type": "code",
      "execution_count": 15,
      "metadata": {
        "id": "g4ZtBe8EL7vt"
      },
      "outputs": [],
      "source": [
        "def remove_pps_outliers(data_frame):\n",
        "  df_out = pd.DataFrame()\n",
        "  for key, subdf in data_frame.groupby('location'):\n",
        "    m = np.mean(subdf['price_per_sqft'])\n",
        "    sd = np.std(subdf['price_per_sqft'])\n",
        "    reduced_df = subdf[(subdf['price_per_sqft'] > (m - sd)) & (subdf['price_per_sqft'] < (m + sd))]\n",
        "    df_out = pd.concat([df_out, reduced_df], ignore_index=True)\n",
        "  return df_out"
      ]
    },
    {
      "cell_type": "code",
      "execution_count": 16,
      "metadata": {
        "colab": {
          "base_uri": "https://localhost:8080/"
        },
        "id": "VbPOLULsM58j",
        "outputId": "b9eabfc0-3060-4c12-bc87-31c222142612"
      },
      "outputs": [
        {
          "data": {
            "text/plain": [
              "12502"
            ]
          },
          "execution_count": 16,
          "metadata": {},
          "output_type": "execute_result"
        }
      ],
      "source": [
        "len(df)"
      ]
    },
    {
      "cell_type": "code",
      "execution_count": 17,
      "metadata": {
        "colab": {
          "base_uri": "https://localhost:8080/"
        },
        "id": "o1PaR8p-MzAW",
        "outputId": "d3e5d246-1ff2-486e-e0e4-79cab010b4a3"
      },
      "outputs": [
        {
          "data": {
            "text/plain": [
              "10244"
            ]
          },
          "execution_count": 17,
          "metadata": {},
          "output_type": "execute_result"
        }
      ],
      "source": [
        "df = remove_pps_outliers(df)\n",
        "len(df)"
      ]
    },
    {
      "cell_type": "code",
      "execution_count": 18,
      "metadata": {
        "id": "zOtEEj0xM8sU"
      },
      "outputs": [],
      "source": [
        "def plot_scatter_chart(data_frame, location):\n",
        "  bhk2 = df[(df['bhk'] == 2) & (df['location'] == location)]\n",
        "  bhk3 = df[df['bhk'] == 3 & (df['location'] == location)]\n",
        "  matplotlib.rcParams['figure.figsize'] = (15, 10)\n",
        "  plt.scatter(bhk2['total_sqft'], bhk2['price'], color='blue', label='2 BHK', s=50)\n",
        "  plt.scatter(bhk3['total_sqft'], bhk3['price'], color='green', label='3 BHK', s=50)\n",
        "  plt.xlabel('Total Square Feet Area')\n",
        "  plt.ylabel('Price')\n",
        "  plt.legend()"
      ]
    },
    {
      "cell_type": "code",
      "execution_count": 19,
      "metadata": {
        "colab": {
          "base_uri": "https://localhost:8080/",
          "height": 850
        },
        "id": "D1jyXWmxN6HG",
        "outputId": "b0991da4-b80a-43e2-9b69-11139dc7d5cb"
      },
      "outputs": [
        {
          "data": {
            "image/png": "[encoded data removed]",
            "text/plain": [
              "<Figure size 1500x1000 with 1 Axes>"
            ]
          },
          "metadata": {},
          "output_type": "display_data"
        }
      ],
      "source": [
        "plot_scatter_chart(df, 'Whitefield')"
      ]
    },
    {
      "cell_type": "code",
      "execution_count": 20,
      "metadata": {
        "id": "DPqM6lumOdfH"
      },
      "outputs": [],
      "source": [
        "def remove_bhk_outliers(data_frame):\n",
        "  exclude_indices = np.array([])\n",
        "  for location, location_df in df.groupby('location'):\n",
        "    bhk_stats = {}\n",
        "    for bhk, bhk_df in location_df.groupby('bhk'):\n",
        "      bhk_stats[bhk] = {\n",
        "          'mean': np.mean(bhk_df['price_per_sqft']),\n",
        "          'std': np.std(bhk_df['price_per_sqft']),\n",
        "          'count': bhk_df.shape[0]\n",
        "      }\n",
        "    for bhk, bhk_df in location_df.groupby('bhk'):\n",
        "      stats = bhk_stats.get(bhk-1)\n",
        "      if stats and stats['count'] > 5:\n",
        "        exclude_indices = np.append(exclude_indices, bhk_df[bhk_df['price_per_sqft'] < (stats['mean'])].index.values)\n",
        "    return df.drop(exclude_indices, axis='index')"
      ]
    },
    {
      "cell_type": "code",
      "execution_count": 21,
      "metadata": {
        "colab": {
          "base_uri": "https://localhost:8080/"
        },
        "id": "ReRcvCIuP8bt",
        "outputId": "b6354368-1227-4cbb-b315-0793923b5d2c"
      },
      "outputs": [
        {
          "data": {
            "text/plain": [
              "10244"
            ]
          },
          "execution_count": 21,
          "metadata": {},
          "output_type": "execute_result"
        }
      ],
      "source": [
        "len(df)"
      ]
    },
    {
      "cell_type": "code",
      "execution_count": 22,
      "metadata": {
        "colab": {
          "base_uri": "https://localhost:8080/"
        },
        "id": "SCf7O3-6P5m1",
        "outputId": "d4947e39-883c-41a2-9eae-10d83f6cca6a"
      },
      "outputs": [
        {
          "data": {
            "text/plain": [
              "(10242, 7)"
            ]
          },
          "execution_count": 22,
          "metadata": {},
          "output_type": "execute_result"
        }
      ],
      "source": [
        "df = remove_bhk_outliers(df)\n",
        "df.shape"
      ]
    },
    {
      "cell_type": "code",
      "execution_count": 23,
      "metadata": {
        "colab": {
          "base_uri": "https://localhost:8080/",
          "height": 799
        },
        "id": "g07JHCHnQvkX",
        "outputId": "3a9f7a13-259e-4260-d6b9-57cf1fb329df"
      },
      "outputs": [
        {
          "data": {
            "text/plain": [
              "Text(0, 0.5, 'Price')"
            ]
          },
          "execution_count": 23,
          "metadata": {},
          "output_type": "execute_result"
        },
        {
          "data": {
            "image/png": "[encoded data removed]",
            "text/plain": [
              "<Figure size 2000x1000 with 1 Axes>"
            ]
          },
          "metadata": {},
          "output_type": "display_data"
        }
      ],
      "source": [
        "matplotlib.rcParams['figure.figsize'] = (20, 10)\n",
        "plt.hist(df['price_per_sqft'], rwidth=0.8)\n",
        "plt.xlabel('Price Per Square Feet')\n",
        "plt.ylabel('Price')"
      ]
    },
    {
      "cell_type": "code",
      "execution_count": 24,
      "metadata": {
        "colab": {
          "base_uri": "https://localhost:8080/",
          "height": 796
        },
        "id": "yP3iwHfhRGSW",
        "outputId": "eed4a320-946c-4c6e-c8f8-7ba1ffaa3e1a"
      },
      "outputs": [
        {
          "data": {
            "text/plain": [
              "Text(0, 0.5, 'Count')"
            ]
          },
          "execution_count": 24,
          "metadata": {},
          "output_type": "execute_result"
        },
        {
          "data": {
            "image/png": "[encoded data removed]",
            "text/plain": [
              "<Figure size 2000x1000 with 1 Axes>"
            ]
          },
          "metadata": {},
          "output_type": "display_data"
        }
      ],
      "source": [
        "plt.hist(df['bath'], rwidth=0.8)\n",
        "plt.xlabel('Number of Bathrooms')\n",
        "plt.ylabel('Count')"
      ]
    },
    {
      "cell_type": "code",
      "execution_count": 25,
      "metadata": {
        "colab": {
          "base_uri": "https://localhost:8080/"
        },
        "id": "vgfEfnVRRge2",
        "outputId": "d88af972-816a-47a1-b894-47235508a8b6"
      },
      "outputs": [
        {
          "data": {
            "text/plain": [
              "(10242, 7)"
            ]
          },
          "execution_count": 25,
          "metadata": {},
          "output_type": "execute_result"
        }
      ],
      "source": [
        "df.shape"
      ]
    },
    {
      "cell_type": "code",
      "execution_count": 26,
      "metadata": {
        "colab": {
          "base_uri": "https://localhost:8080/"
        },
        "id": "Z9Fz5wtrRY0V",
        "outputId": "8206db42-0d8e-4508-83df-aeb2283a5edc"
      },
      "outputs": [
        {
          "data": {
            "text/plain": [
              "(10148, 7)"
            ]
          },
          "execution_count": 26,
          "metadata": {},
          "output_type": "execute_result"
        }
      ],
      "source": [
        "df = df[df['bath'] < df['bhk'] + 2]\n",
        "df.shape"
      ]
    },
    {
      "cell_type": "code",
      "execution_count": 27,
      "metadata": {
        "colab": {
          "base_uri": "https://localhost:8080/",
          "height": 496
        },
        "id": "Y8thEWZaRs9N",
        "outputId": "4d83114c-578e-4c17-b40e-6aa58b98b9d2"
      },
      "outputs": [
        {
          "data": {
            "text/html": [
              "<div>\n",
              "<style scoped>\n",
              "    .dataframe tbody tr th:only-of-type {\n",
              "        vertical-align: middle;\n",
              "    }\n",
              "\n",
              "    .dataframe tbody tr th {\n",
              "        vertical-align: top;\n",
              "    }\n",
              "\n",
              "    .dataframe thead th {\n",
              "        text-align: right;\n",
              "    }\n",
              "</style>\n",
              "<table border=\"1\" class=\"dataframe\">\n",
              "  <thead>\n",
              "    <tr style=\"text-align: right;\">\n",
              "      <th></th>\n",
              "      <th>Devarachikkanahalli</th>\n",
              "      <th>1st Block Jayanagar</th>\n",
              "      <th>1st Phase JP Nagar</th>\n",
              "      <th>2nd Phase Judicial Layout</th>\n",
              "      <th>2nd Stage Nagarbhavi</th>\n",
              "      <th>5th Block Hbr Layout</th>\n",
              "      <th>5th Phase JP Nagar</th>\n",
              "      <th>6th Phase JP Nagar</th>\n",
              "      <th>7th Phase JP Nagar</th>\n",
              "      <th>8th Phase JP Nagar</th>\n",
              "      <th>...</th>\n",
              "      <th>Vijayanagar</th>\n",
              "      <th>Vishveshwarya Layout</th>\n",
              "      <th>Vishwapriya Layout</th>\n",
              "      <th>Vittasandra</th>\n",
              "      <th>Whitefield</th>\n",
              "      <th>Yelachenahalli</th>\n",
              "      <th>Yelahanka</th>\n",
              "      <th>Yelahanka New Town</th>\n",
              "      <th>Yelenahalli</th>\n",
              "      <th>Yeshwanthpur</th>\n",
              "    </tr>\n",
              "  </thead>\n",
              "  <tbody>\n",
              "    <tr>\n",
              "      <th>1</th>\n",
              "      <td>True</td>\n",
              "      <td>False</td>\n",
              "      <td>False</td>\n",
              "      <td>False</td>\n",
              "      <td>False</td>\n",
              "      <td>False</td>\n",
              "      <td>False</td>\n",
              "      <td>False</td>\n",
              "      <td>False</td>\n",
              "      <td>False</td>\n",
              "      <td>...</td>\n",
              "      <td>False</td>\n",
              "      <td>False</td>\n",
              "      <td>False</td>\n",
              "      <td>False</td>\n",
              "      <td>False</td>\n",
              "      <td>False</td>\n",
              "      <td>False</td>\n",
              "      <td>False</td>\n",
              "      <td>False</td>\n",
              "      <td>False</td>\n",
              "    </tr>\n",
              "    <tr>\n",
              "      <th>2</th>\n",
              "      <td>True</td>\n",
              "      <td>False</td>\n",
              "      <td>False</td>\n",
              "      <td>False</td>\n",
              "      <td>False</td>\n",
              "      <td>False</td>\n",
              "      <td>False</td>\n",
              "      <td>False</td>\n",
              "      <td>False</td>\n",
              "      <td>False</td>\n",
              "      <td>...</td>\n",
              "      <td>False</td>\n",
              "      <td>False</td>\n",
              "      <td>False</td>\n",
              "      <td>False</td>\n",
              "      <td>False</td>\n",
              "      <td>False</td>\n",
              "      <td>False</td>\n",
              "      <td>False</td>\n",
              "      <td>False</td>\n",
              "      <td>False</td>\n",
              "    </tr>\n",
              "    <tr>\n",
              "      <th>3</th>\n",
              "      <td>True</td>\n",
              "      <td>False</td>\n",
              "      <td>False</td>\n",
              "      <td>False</td>\n",
              "      <td>False</td>\n",
              "      <td>False</td>\n",
              "      <td>False</td>\n",
              "      <td>False</td>\n",
              "      <td>False</td>\n",
              "      <td>False</td>\n",
              "      <td>...</td>\n",
              "      <td>False</td>\n",
              "      <td>False</td>\n",
              "      <td>False</td>\n",
              "      <td>False</td>\n",
              "      <td>False</td>\n",
              "      <td>False</td>\n",
              "      <td>False</td>\n",
              "      <td>False</td>\n",
              "      <td>False</td>\n",
              "      <td>False</td>\n",
              "    </tr>\n",
              "    <tr>\n",
              "      <th>4</th>\n",
              "      <td>True</td>\n",
              "      <td>False</td>\n",
              "      <td>False</td>\n",
              "      <td>False</td>\n",
              "      <td>False</td>\n",
              "      <td>False</td>\n",
              "      <td>False</td>\n",
              "      <td>False</td>\n",
              "      <td>False</td>\n",
              "      <td>False</td>\n",
              "      <td>...</td>\n",
              "      <td>False</td>\n",
              "      <td>False</td>\n",
              "      <td>False</td>\n",
              "      <td>False</td>\n",
              "      <td>False</td>\n",
              "      <td>False</td>\n",
              "      <td>False</td>\n",
              "      <td>False</td>\n",
              "      <td>False</td>\n",
              "      <td>False</td>\n",
              "    </tr>\n",
              "    <tr>\n",
              "      <th>5</th>\n",
              "      <td>True</td>\n",
              "      <td>False</td>\n",
              "      <td>False</td>\n",
              "      <td>False</td>\n",
              "      <td>False</td>\n",
              "      <td>False</td>\n",
              "      <td>False</td>\n",
              "      <td>False</td>\n",
              "      <td>False</td>\n",
              "      <td>False</td>\n",
              "      <td>...</td>\n",
              "      <td>False</td>\n",
              "      <td>False</td>\n",
              "      <td>False</td>\n",
              "      <td>False</td>\n",
              "      <td>False</td>\n",
              "      <td>False</td>\n",
              "      <td>False</td>\n",
              "      <td>False</td>\n",
              "      <td>False</td>\n",
              "      <td>False</td>\n",
              "    </tr>\n",
              "    <tr>\n",
              "      <th>...</th>\n",
              "      <td>...</td>\n",
              "      <td>...</td>\n",
              "      <td>...</td>\n",
              "      <td>...</td>\n",
              "      <td>...</td>\n",
              "      <td>...</td>\n",
              "      <td>...</td>\n",
              "      <td>...</td>\n",
              "      <td>...</td>\n",
              "      <td>...</td>\n",
              "      <td>...</td>\n",
              "      <td>...</td>\n",
              "      <td>...</td>\n",
              "      <td>...</td>\n",
              "      <td>...</td>\n",
              "      <td>...</td>\n",
              "      <td>...</td>\n",
              "      <td>...</td>\n",
              "      <td>...</td>\n",
              "      <td>...</td>\n",
              "      <td>...</td>\n",
              "    </tr>\n",
              "    <tr>\n",
              "      <th>10239</th>\n",
              "      <td>False</td>\n",
              "      <td>False</td>\n",
              "      <td>False</td>\n",
              "      <td>False</td>\n",
              "      <td>False</td>\n",
              "      <td>False</td>\n",
              "      <td>False</td>\n",
              "      <td>False</td>\n",
              "      <td>False</td>\n",
              "      <td>False</td>\n",
              "      <td>...</td>\n",
              "      <td>False</td>\n",
              "      <td>False</td>\n",
              "      <td>False</td>\n",
              "      <td>False</td>\n",
              "      <td>False</td>\n",
              "      <td>False</td>\n",
              "      <td>False</td>\n",
              "      <td>False</td>\n",
              "      <td>False</td>\n",
              "      <td>True</td>\n",
              "    </tr>\n",
              "    <tr>\n",
              "      <th>10240</th>\n",
              "      <td>False</td>\n",
              "      <td>False</td>\n",
              "      <td>False</td>\n",
              "      <td>False</td>\n",
              "      <td>False</td>\n",
              "      <td>False</td>\n",
              "      <td>False</td>\n",
              "      <td>False</td>\n",
              "      <td>False</td>\n",
              "      <td>False</td>\n",
              "      <td>...</td>\n",
              "      <td>False</td>\n",
              "      <td>False</td>\n",
              "      <td>False</td>\n",
              "      <td>False</td>\n",
              "      <td>False</td>\n",
              "      <td>False</td>\n",
              "      <td>False</td>\n",
              "      <td>False</td>\n",
              "      <td>False</td>\n",
              "      <td>True</td>\n",
              "    </tr>\n",
              "    <tr>\n",
              "      <th>10241</th>\n",
              "      <td>False</td>\n",
              "      <td>False</td>\n",
              "      <td>False</td>\n",
              "      <td>False</td>\n",
              "      <td>False</td>\n",
              "      <td>False</td>\n",
              "      <td>False</td>\n",
              "      <td>False</td>\n",
              "      <td>False</td>\n",
              "      <td>False</td>\n",
              "      <td>...</td>\n",
              "      <td>False</td>\n",
              "      <td>False</td>\n",
              "      <td>False</td>\n",
              "      <td>False</td>\n",
              "      <td>False</td>\n",
              "      <td>False</td>\n",
              "      <td>False</td>\n",
              "      <td>False</td>\n",
              "      <td>False</td>\n",
              "      <td>True</td>\n",
              "    </tr>\n",
              "    <tr>\n",
              "      <th>10242</th>\n",
              "      <td>False</td>\n",
              "      <td>False</td>\n",
              "      <td>False</td>\n",
              "      <td>False</td>\n",
              "      <td>False</td>\n",
              "      <td>False</td>\n",
              "      <td>False</td>\n",
              "      <td>False</td>\n",
              "      <td>False</td>\n",
              "      <td>False</td>\n",
              "      <td>...</td>\n",
              "      <td>False</td>\n",
              "      <td>False</td>\n",
              "      <td>False</td>\n",
              "      <td>False</td>\n",
              "      <td>False</td>\n",
              "      <td>False</td>\n",
              "      <td>False</td>\n",
              "      <td>False</td>\n",
              "      <td>False</td>\n",
              "      <td>True</td>\n",
              "    </tr>\n",
              "    <tr>\n",
              "      <th>10243</th>\n",
              "      <td>False</td>\n",
              "      <td>False</td>\n",
              "      <td>False</td>\n",
              "      <td>False</td>\n",
              "      <td>False</td>\n",
              "      <td>False</td>\n",
              "      <td>False</td>\n",
              "      <td>False</td>\n",
              "      <td>False</td>\n",
              "      <td>False</td>\n",
              "      <td>...</td>\n",
              "      <td>False</td>\n",
              "      <td>False</td>\n",
              "      <td>False</td>\n",
              "      <td>False</td>\n",
              "      <td>False</td>\n",
              "      <td>False</td>\n",
              "      <td>False</td>\n",
              "      <td>False</td>\n",
              "      <td>False</td>\n",
              "      <td>True</td>\n",
              "    </tr>\n",
              "  </tbody>\n",
              "</table>\n",
              "<p>10148 rows × 242 columns</p>\n",
              "</div>"
            ],
            "text/plain": [
              "        Devarachikkanahalli  1st Block Jayanagar  1st Phase JP Nagar  \\\n",
              "1                      True                False               False   \n",
              "2                      True                False               False   \n",
              "3                      True                False               False   \n",
              "4                      True                False               False   \n",
              "5                      True                False               False   \n",
              "...                     ...                  ...                 ...   \n",
              "10239                 False                False               False   \n",
              "10240                 False                False               False   \n",
              "10241                 False                False               False   \n",
              "10242                 False                False               False   \n",
              "10243                 False                False               False   \n",
              "\n",
              "       2nd Phase Judicial Layout  2nd Stage Nagarbhavi  5th Block Hbr Layout  \\\n",
              "1                          False                 False                 False   \n",
              "2                          False                 False                 False   \n",
              "3                          False                 False                 False   \n",
              "4                          False                 False                 False   \n",
              "5                          False                 False                 False   \n",
              "...                          ...                   ...                   ...   \n",
              "10239                      False                 False                 False   \n",
              "10240                      False                 False                 False   \n",
              "10241                      False                 False                 False   \n",
              "10242                      False                 False                 False   \n",
              "10243                      False                 False                 False   \n",
              "\n",
              "       5th Phase JP Nagar  6th Phase JP Nagar  7th Phase JP Nagar  \\\n",
              "1                   False               False               False   \n",
              "2                   False               False               False   \n",
              "3                   False               False               False   \n",
              "4                   False               False               False   \n",
              "5                   False               False               False   \n",
              "...                   ...                 ...                 ...   \n",
              "10239               False               False               False   \n",
              "10240               False               False               False   \n",
              "10241               False               False               False   \n",
              "10242               False               False               False   \n",
              "10243               False               False               False   \n",
              "\n",
              "       8th Phase JP Nagar  ...  Vijayanagar  Vishveshwarya Layout  \\\n",
              "1                   False  ...        False                 False   \n",
              "2                   False  ...        False                 False   \n",
              "3                   False  ...        False                 False   \n",
              "4                   False  ...        False                 False   \n",
              "5                   False  ...        False                 False   \n",
              "...                   ...  ...          ...                   ...   \n",
              "10239               False  ...        False                 False   \n",
              "10240               False  ...        False                 False   \n",
              "10241               False  ...        False                 False   \n",
              "10242               False  ...        False                 False   \n",
              "10243               False  ...        False                 False   \n",
              "\n",
              "       Vishwapriya Layout  Vittasandra  Whitefield  Yelachenahalli  Yelahanka  \\\n",
              "1                   False        False       False           False      False   \n",
              "2                   False        False       False           False      False   \n",
              "3                   False        False       False           False      False   \n",
              "4                   False        False       False           False      False   \n",
              "5                   False        False       False           False      False   \n",
              "...                   ...          ...         ...             ...        ...   \n",
              "10239               False        False       False           False      False   \n",
              "10240               False        False       False           False      False   \n",
              "10241               False        False       False           False      False   \n",
              "10242               False        False       False           False      False   \n",
              "10243               False        False       False           False      False   \n",
              "\n",
              "       Yelahanka New Town  Yelenahalli  Yeshwanthpur  \n",
              "1                   False        False         False  \n",
              "2                   False        False         False  \n",
              "3                   False        False         False  \n",
              "4                   False        False         False  \n",
              "5                   False        False         False  \n",
              "...                   ...          ...           ...  \n",
              "10239               False        False          True  \n",
              "10240               False        False          True  \n",
              "10241               False        False          True  \n",
              "10242               False        False          True  \n",
              "10243               False        False          True  \n",
              "\n",
              "[10148 rows x 242 columns]"
            ]
          },
          "execution_count": 27,
          "metadata": {},
          "output_type": "execute_result"
        }
      ],
      "source": [
        "location_dummies = pd.get_dummies(df['location'])\n",
        "location_dummies"
      ]
    },
    {
      "cell_type": "code",
      "execution_count": 28,
      "metadata": {
        "colab": {
          "base_uri": "https://localhost:8080/",
          "height": 245
        },
        "id": "i8fZFihxR51_",
        "outputId": "233ec2b5-d297-4c0a-d94b-8199011b98d4"
      },
      "outputs": [
        {
          "data": {
            "text/html": [
              "<div>\n",
              "<style scoped>\n",
              "    .dataframe tbody tr th:only-of-type {\n",
              "        vertical-align: middle;\n",
              "    }\n",
              "\n",
              "    .dataframe tbody tr th {\n",
              "        vertical-align: top;\n",
              "    }\n",
              "\n",
              "    .dataframe thead th {\n",
              "        text-align: right;\n",
              "    }\n",
              "</style>\n",
              "<table border=\"1\" class=\"dataframe\">\n",
              "  <thead>\n",
              "    <tr style=\"text-align: right;\">\n",
              "      <th></th>\n",
              "      <th>total_sqft</th>\n",
              "      <th>bath</th>\n",
              "      <th>price</th>\n",
              "      <th>bhk</th>\n",
              "      <th>Devarachikkanahalli</th>\n",
              "      <th>1st Block Jayanagar</th>\n",
              "      <th>1st Phase JP Nagar</th>\n",
              "      <th>2nd Phase Judicial Layout</th>\n",
              "      <th>2nd Stage Nagarbhavi</th>\n",
              "      <th>5th Block Hbr Layout</th>\n",
              "      <th>...</th>\n",
              "      <th>Vijayanagar</th>\n",
              "      <th>Vishveshwarya Layout</th>\n",
              "      <th>Vishwapriya Layout</th>\n",
              "      <th>Vittasandra</th>\n",
              "      <th>Whitefield</th>\n",
              "      <th>Yelachenahalli</th>\n",
              "      <th>Yelahanka</th>\n",
              "      <th>Yelahanka New Town</th>\n",
              "      <th>Yelenahalli</th>\n",
              "      <th>Yeshwanthpur</th>\n",
              "    </tr>\n",
              "  </thead>\n",
              "  <tbody>\n",
              "    <tr>\n",
              "      <th>1</th>\n",
              "      <td>1250.0</td>\n",
              "      <td>2.0</td>\n",
              "      <td>40.0</td>\n",
              "      <td>2</td>\n",
              "      <td>True</td>\n",
              "      <td>False</td>\n",
              "      <td>False</td>\n",
              "      <td>False</td>\n",
              "      <td>False</td>\n",
              "      <td>False</td>\n",
              "      <td>...</td>\n",
              "      <td>False</td>\n",
              "      <td>False</td>\n",
              "      <td>False</td>\n",
              "      <td>False</td>\n",
              "      <td>False</td>\n",
              "      <td>False</td>\n",
              "      <td>False</td>\n",
              "      <td>False</td>\n",
              "      <td>False</td>\n",
              "      <td>False</td>\n",
              "    </tr>\n",
              "    <tr>\n",
              "      <th>2</th>\n",
              "      <td>1200.0</td>\n",
              "      <td>2.0</td>\n",
              "      <td>83.0</td>\n",
              "      <td>2</td>\n",
              "      <td>True</td>\n",
              "      <td>False</td>\n",
              "      <td>False</td>\n",
              "      <td>False</td>\n",
              "      <td>False</td>\n",
              "      <td>False</td>\n",
              "      <td>...</td>\n",
              "      <td>False</td>\n",
              "      <td>False</td>\n",
              "      <td>False</td>\n",
              "      <td>False</td>\n",
              "      <td>False</td>\n",
              "      <td>False</td>\n",
              "      <td>False</td>\n",
              "      <td>False</td>\n",
              "      <td>False</td>\n",
              "      <td>False</td>\n",
              "    </tr>\n",
              "    <tr>\n",
              "      <th>3</th>\n",
              "      <td>1170.0</td>\n",
              "      <td>2.0</td>\n",
              "      <td>40.0</td>\n",
              "      <td>2</td>\n",
              "      <td>True</td>\n",
              "      <td>False</td>\n",
              "      <td>False</td>\n",
              "      <td>False</td>\n",
              "      <td>False</td>\n",
              "      <td>False</td>\n",
              "      <td>...</td>\n",
              "      <td>False</td>\n",
              "      <td>False</td>\n",
              "      <td>False</td>\n",
              "      <td>False</td>\n",
              "      <td>False</td>\n",
              "      <td>False</td>\n",
              "      <td>False</td>\n",
              "      <td>False</td>\n",
              "      <td>False</td>\n",
              "      <td>False</td>\n",
              "    </tr>\n",
              "  </tbody>\n",
              "</table>\n",
              "<p>3 rows × 246 columns</p>\n",
              "</div>"
            ],
            "text/plain": [
              "   total_sqft  bath  price  bhk   Devarachikkanahalli  1st Block Jayanagar  \\\n",
              "1      1250.0   2.0   40.0    2                  True                False   \n",
              "2      1200.0   2.0   83.0    2                  True                False   \n",
              "3      1170.0   2.0   40.0    2                  True                False   \n",
              "\n",
              "   1st Phase JP Nagar  2nd Phase Judicial Layout  2nd Stage Nagarbhavi  \\\n",
              "1               False                      False                 False   \n",
              "2               False                      False                 False   \n",
              "3               False                      False                 False   \n",
              "\n",
              "   5th Block Hbr Layout  ...  Vijayanagar  Vishveshwarya Layout  \\\n",
              "1                 False  ...        False                 False   \n",
              "2                 False  ...        False                 False   \n",
              "3                 False  ...        False                 False   \n",
              "\n",
              "   Vishwapriya Layout  Vittasandra  Whitefield  Yelachenahalli  Yelahanka  \\\n",
              "1               False        False       False           False      False   \n",
              "2               False        False       False           False      False   \n",
              "3               False        False       False           False      False   \n",
              "\n",
              "   Yelahanka New Town  Yelenahalli  Yeshwanthpur  \n",
              "1               False        False         False  \n",
              "2               False        False         False  \n",
              "3               False        False         False  \n",
              "\n",
              "[3 rows x 246 columns]"
            ]
          },
          "execution_count": 28,
          "metadata": {},
          "output_type": "execute_result"
        }
      ],
      "source": [
        "df = pd.concat([df, location_dummies], axis='columns')\n",
        "df = df.drop(['location', 'size', 'price_per_sqft'], axis='columns')\n",
        "df.head(3)"
      ]
    },
    {
      "cell_type": "code",
      "execution_count": 29,
      "metadata": {
        "colab": {
          "base_uri": "https://localhost:8080/"
        },
        "id": "LTbqnF0USmg3",
        "outputId": "3cc7569f-2510-48b9-f5b2-ab59bb78b4b3"
      },
      "outputs": [
        {
          "data": {
            "text/plain": [
              "(10148, 245)"
            ]
          },
          "execution_count": 29,
          "metadata": {},
          "output_type": "execute_result"
        }
      ],
      "source": [
        "X = df.drop('price', axis='columns')\n",
        "X.shape"
      ]
    },
    {
      "cell_type": "code",
      "execution_count": 30,
      "metadata": {
        "colab": {
          "base_uri": "https://localhost:8080/"
        },
        "id": "NTSeKJgMSqof",
        "outputId": "25080c09-ba2a-41f6-ff26-58f525f6f01d"
      },
      "outputs": [
        {
          "data": {
            "text/plain": [
              "(10148,)"
            ]
          },
          "execution_count": 30,
          "metadata": {},
          "output_type": "execute_result"
        }
      ],
      "source": [
        "y = df['price']\n",
        "y.shape"
      ]
    },
    {
      "cell_type": "code",
      "execution_count": 31,
      "metadata": {
        "id": "0TTvjYNsS-Ru"
      },
      "outputs": [],
      "source": [
        "X_train, X_test, y_train, y_test = train_test_split(X, y, test_size=0.2, random_state=10)"
      ]
    },
    {
      "cell_type": "code",
      "execution_count": 32,
      "metadata": {
        "colab": {
          "base_uri": "https://localhost:8080/"
        },
        "id": "DCs8jAViTFJW",
        "outputId": "611799de-5a79-4ae3-e099-7b244ec40717"
      },
      "outputs": [
        {
          "data": {
            "text/plain": [
              "0.8628019960067237"
            ]
          },
          "execution_count": 32,
          "metadata": {},
          "output_type": "execute_result"
        }
      ],
      "source": [
        "lr_clf = LinearRegression()\n",
        "lr_clf.fit(X_train.values, y_train.values)\n",
        "lr_clf.score(X_test.values, y_test.values)"
      ]
    },
    {
      "cell_type": "code",
      "execution_count": 33,
      "metadata": {
        "colab": {
          "base_uri": "https://localhost:8080/"
        },
        "id": "LMkhWGZaTPiZ",
        "outputId": "d534e82e-fb65-4703-fd8e-9841b890af5b"
      },
      "outputs": [
        {
          "data": {
            "text/plain": [
              "0.8133936716516323"
            ]
          },
          "execution_count": 33,
          "metadata": {},
          "output_type": "execute_result"
        }
      ],
      "source": [
        "cv = ShuffleSplit(n_splits=5, test_size=0.2, random_state=0)\n",
        "scores = cross_val_score(LinearRegression(), X, y, cv=cv)\n",
        "scores.mean()"
      ]
    },
    {
      "cell_type": "code",
      "execution_count": 34,
      "metadata": {
        "colab": {
          "base_uri": "https://localhost:8080/",
          "height": 545
        },
        "id": "vqHHx31yTv1m",
        "outputId": "48d049f3-a683-4f5b-db57-e57e235a3e69"
      },
      "outputs": [
        {
          "name": "stderr",
          "output_type": "stream",
          "text": [
            "/opt/anaconda3/lib/python3.12/site-packages/sklearn/model_selection/_validation.py:516: FitFailedWarning: \n",
            "10 fits failed out of a total of 20.\n",
            "The score on these train-test partitions for these parameters will be set to nan.\n",
            "If these failures are not expected, you can try to debug them by setting error_score='raise'.\n",
            "\n",
            "Below are more details about the failures:\n",
            "--------------------------------------------------------------------------------\n",
            "10 fits failed with the following error:\n",
            "Traceback (most recent call last):\n",
            "  File \"/opt/anaconda3/lib/python3.12/site-packages/sklearn/model_selection/_validation.py\", line 859, in _fit_and_score\n",
            "    estimator.fit(X_train, y_train, **fit_params)\n",
            "  File \"/opt/anaconda3/lib/python3.12/site-packages/sklearn/base.py\", line 1358, in wrapper\n",
            "    estimator._validate_params()\n",
            "  File \"/opt/anaconda3/lib/python3.12/site-packages/sklearn/base.py\", line 471, in _validate_params\n",
            "    validate_parameter_constraints(\n",
            "  File \"/opt/anaconda3/lib/python3.12/site-packages/sklearn/utils/_param_validation.py\", line 98, in validate_parameter_constraints\n",
            "    raise InvalidParameterError(\n",
            "sklearn.utils._param_validation.InvalidParameterError: The 'criterion' parameter of DecisionTreeRegressor must be a str among {'poisson', 'squared_error', 'friedman_mse', 'absolute_error'}. Got 'mse' instead.\n",
            "\n",
            "  warnings.warn(some_fits_failed_message, FitFailedWarning)\n",
            "/opt/anaconda3/lib/python3.12/site-packages/sklearn/model_selection/_search.py:1135: UserWarning: One or more of the test scores are non-finite: [       nan        nan 0.68515208 0.7073832 ]\n",
            "  warnings.warn(\n"
          ]
        },
        {
          "data": {
            "text/html": [
              "<div>\n",
              "<style scoped>\n",
              "    .dataframe tbody tr th:only-of-type {\n",
              "        vertical-align: middle;\n",
              "    }\n",
              "\n",
              "    .dataframe tbody tr th {\n",
              "        vertical-align: top;\n",
              "    }\n",
              "\n",
              "    .dataframe thead th {\n",
              "        text-align: right;\n",
              "    }\n",
              "</style>\n",
              "<table border=\"1\" class=\"dataframe\">\n",
              "  <thead>\n",
              "    <tr style=\"text-align: right;\">\n",
              "      <th></th>\n",
              "      <th>model</th>\n",
              "      <th>best_score</th>\n",
              "      <th>best_params</th>\n",
              "    </tr>\n",
              "  </thead>\n",
              "  <tbody>\n",
              "    <tr>\n",
              "      <th>0</th>\n",
              "      <td>linear_regression</td>\n",
              "      <td>0.813394</td>\n",
              "      <td>{}</td>\n",
              "    </tr>\n",
              "    <tr>\n",
              "      <th>1</th>\n",
              "      <td>lasso</td>\n",
              "      <td>0.687491</td>\n",
              "      <td>{'alpha': 1, 'selection': 'random'}</td>\n",
              "    </tr>\n",
              "    <tr>\n",
              "      <th>2</th>\n",
              "      <td>decision_tree</td>\n",
              "      <td>0.707383</td>\n",
              "      <td>{'criterion': 'friedman_mse', 'splitter': 'ran...</td>\n",
              "    </tr>\n",
              "  </tbody>\n",
              "</table>\n",
              "</div>"
            ],
            "text/plain": [
              "               model  best_score  \\\n",
              "0  linear_regression    0.813394   \n",
              "1              lasso    0.687491   \n",
              "2      decision_tree    0.707383   \n",
              "\n",
              "                                         best_params  \n",
              "0                                                 {}  \n",
              "1                {'alpha': 1, 'selection': 'random'}  \n",
              "2  {'criterion': 'friedman_mse', 'splitter': 'ran...  "
            ]
          },
          "execution_count": 34,
          "metadata": {},
          "output_type": "execute_result"
        }
      ],
      "source": [
        "def find_best_model(X, y):\n",
        "  algos = {\n",
        "      'linear_regression': {\n",
        "          'model': LinearRegression(),\n",
        "          'params': {}\n",
        "      },\n",
        "      'lasso': {\n",
        "          'model': Lasso(),\n",
        "          'params': {\n",
        "              'alpha': [1, 2],\n",
        "              'selection': ['random', 'cyclic']\n",
        "          }\n",
        "      },\n",
        "      'decision_tree': {\n",
        "          'model': DecisionTreeRegressor(),\n",
        "          'params': {\n",
        "              'criterion': ['mse', 'friedman_mse'],\n",
        "              'splitter': ['best', 'random']\n",
        "          }\n",
        "      }\n",
        "  }\n",
        "\n",
        "  scores = []\n",
        "  cv = ShuffleSplit(n_splits=5, test_size=0.2, random_state=0)\n",
        "  for algo_name, config in algos.items():\n",
        "    gs = GridSearchCV(config['model'], config['params'], cv=cv, return_train_score=False)\n",
        "    gs.fit(X, y)\n",
        "    scores.append({\n",
        "        'model': algo_name,\n",
        "        'best_score': gs.best_score_,\n",
        "        'best_params': gs.best_params_\n",
        "    })\n",
        "\n",
        "  return pd.DataFrame(scores, columns=['model', 'best_score', 'best_params'])\n",
        "\n",
        "find_best_model(X, y)"
      ]
    },
    {
      "cell_type": "code",
      "execution_count": 35,
      "metadata": {
        "id": "dCMeCmmGViCw"
      },
      "outputs": [],
      "source": [
        "def predict_price(location, sqft, bath, bhk):\n",
        "  loc_index = np.where(X.columns==location)[0][0]\n",
        "  x = np.zeros(len(X.columns))\n",
        "  x[0] = sqft\n",
        "  x[1] = bath\n",
        "  x[2] = bhk\n",
        "  if loc_index >= 0:\n",
        "    x[loc_index] = 1\n",
        "\n",
        "  return lr_clf.predict([x])[0]"
      ]
    },
    {
      "cell_type": "code",
      "execution_count": 36,
      "metadata": {
        "colab": {
          "base_uri": "https://localhost:8080/"
        },
        "id": "D30OvMohW8nK",
        "outputId": "e406150e-fdc4-4b26-d6b4-49eb5af91b30"
      },
      "outputs": [
        {
          "data": {
            "text/plain": [
              "Index(['total_sqft', 'bath', 'bhk', ' Devarachikkanahalli',\n",
              "       '1st Block Jayanagar', '1st Phase JP Nagar',\n",
              "       '2nd Phase Judicial Layout', '2nd Stage Nagarbhavi',\n",
              "       '5th Block Hbr Layout', '5th Phase JP Nagar',\n",
              "       ...\n",
              "       'Vijayanagar', 'Vishveshwarya Layout', 'Vishwapriya Layout',\n",
              "       'Vittasandra', 'Whitefield', 'Yelachenahalli', 'Yelahanka',\n",
              "       'Yelahanka New Town', 'Yelenahalli', 'Yeshwanthpur'],\n",
              "      dtype='object', length=245)"
            ]
          },
          "execution_count": 36,
          "metadata": {},
          "output_type": "execute_result"
        }
      ],
      "source": [
        "X.columns"
      ]
    },
    {
      "cell_type": "code",
      "execution_count": 37,
      "metadata": {
        "colab": {
          "base_uri": "https://localhost:8080/"
        },
        "id": "f_z-kMfjV2wv",
        "outputId": "0cbdd7b3-47a0-4c76-d7b7-fd09a2fb273f"
      },
      "outputs": [
        {
          "data": {
            "text/plain": [
              "149.02039699821256"
            ]
          },
          "execution_count": 37,
          "metadata": {},
          "output_type": "execute_result"
        }
      ],
      "source": [
        "predict_price('1st Block Jayanagar', 500, 2, 2)"
      ]
    },
    {
      "cell_type": "code",
      "execution_count": null,
      "metadata": {
        "id": "RITjUHRbWa53"
      },
      "outputs": [],
      "source": [
        "with open(\"model.pickle\", 'wb') as f:\n",
        "    pickle.dump(lr_clf, f)\n",
        "\n"
      ]
    },
    {
      "cell_type": "code",
      "execution_count": 39,
      "metadata": {
        "colab": {
          "base_uri": "https://localhost:8080/"
        },
        "id": "CfRIQ96NYPsb",
        "outputId": "9d05da56-bbe2-4faf-db70-62adeffdc6ba"
      },
      "outputs": [
        {
          "data": {
            "text/plain": [
              "[' Devarachikkanahalli',\n",
              " '1st Block Jayanagar',\n",
              " '1st Phase JP Nagar',\n",
              " '2nd Phase Judicial Layout',\n",
              " '2nd Stage Nagarbhavi',\n",
              " '5th Block Hbr Layout',\n",
              " '5th Phase JP Nagar',\n",
              " '6th Phase JP Nagar',\n",
              " '7th Phase JP Nagar',\n",
              " '8th Phase JP Nagar',\n",
              " '9th Phase JP Nagar',\n",
              " 'AECS Layout',\n",
              " 'Abbigere',\n",
              " 'Akshaya Nagar',\n",
              " 'Ambalipura',\n",
              " 'Ambedkar Nagar',\n",
              " 'Amruthahalli',\n",
              " 'Anandapura',\n",
              " 'Ananth Nagar',\n",
              " 'Anekal',\n",
              " 'Anjanapura',\n",
              " 'Ardendale',\n",
              " 'Arekere',\n",
              " 'Attibele',\n",
              " 'BEML Layout',\n",
              " 'BTM 2nd Stage',\n",
              " 'BTM Layout',\n",
              " 'Babusapalaya',\n",
              " 'Badavala Nagar',\n",
              " 'Balagere',\n",
              " 'Banashankari',\n",
              " 'Banashankari Stage II',\n",
              " 'Banashankari Stage III',\n",
              " 'Banashankari Stage V',\n",
              " 'Banashankari Stage VI',\n",
              " 'Banaswadi',\n",
              " 'Banjara Layout',\n",
              " 'Bannerghatta',\n",
              " 'Bannerghatta Road',\n",
              " 'Basavangudi',\n",
              " 'Basaveshwara Nagar',\n",
              " 'Battarahalli',\n",
              " 'Begur',\n",
              " 'Begur Road',\n",
              " 'Bellandur',\n",
              " 'Benson Town',\n",
              " 'Bharathi Nagar',\n",
              " 'Bhoganhalli',\n",
              " 'Billekahalli',\n",
              " 'Binny Pete',\n",
              " 'Bisuvanahalli',\n",
              " 'Bommanahalli',\n",
              " 'Bommasandra',\n",
              " 'Bommasandra Industrial Area',\n",
              " 'Bommenahalli',\n",
              " 'Brookefield',\n",
              " 'Budigere',\n",
              " 'CV Raman Nagar',\n",
              " 'Chamrajpet',\n",
              " 'Chandapura',\n",
              " 'Channasandra',\n",
              " 'Chikka Tirupathi',\n",
              " 'Chikkabanavar',\n",
              " 'Chikkalasandra',\n",
              " 'Choodasandra',\n",
              " 'Cooke Town',\n",
              " 'Cox Town',\n",
              " 'Cunningham Road',\n",
              " 'Dasanapura',\n",
              " 'Dasarahalli',\n",
              " 'Devanahalli',\n",
              " 'Dodda Nekkundi',\n",
              " 'Doddaballapur',\n",
              " 'Doddakallasandra',\n",
              " 'Doddathoguru',\n",
              " 'Domlur',\n",
              " 'Dommasandra',\n",
              " 'EPIP Zone',\n",
              " 'Electronic City',\n",
              " 'Electronic City Phase II',\n",
              " 'Electronics City Phase 1',\n",
              " 'Frazer Town',\n",
              " 'GM Palaya',\n",
              " 'Garudachar Palya',\n",
              " 'Giri Nagar',\n",
              " 'Gollarapalya Hosahalli',\n",
              " 'Gottigere',\n",
              " 'Green Glen Layout',\n",
              " 'Gubbalala',\n",
              " 'Gunjur',\n",
              " 'HAL 2nd Stage',\n",
              " 'HBR Layout',\n",
              " 'HRBR Layout',\n",
              " 'HSR Layout',\n",
              " 'Haralur Road',\n",
              " 'Harlur',\n",
              " 'Hebbal',\n",
              " 'Hebbal Kempapura',\n",
              " 'Hegde Nagar',\n",
              " 'Hennur',\n",
              " 'Hennur Road',\n",
              " 'Hoodi',\n",
              " 'Horamavu Agara',\n",
              " 'Horamavu Banaswadi',\n",
              " 'Hormavu',\n",
              " 'Hosa Road',\n",
              " 'Hosakerehalli',\n",
              " 'Hoskote',\n",
              " 'Hosur Road',\n",
              " 'Hulimavu',\n",
              " 'ISRO Layout',\n",
              " 'ITPL',\n",
              " 'Iblur Village',\n",
              " 'Indira Nagar',\n",
              " 'JP Nagar',\n",
              " 'Jakkur',\n",
              " 'Jalahalli',\n",
              " 'Jalahalli East',\n",
              " 'Jigani',\n",
              " 'Judicial Layout',\n",
              " 'KR Puram',\n",
              " 'Kadubeesanahalli',\n",
              " 'Kadugodi',\n",
              " 'Kaggadasapura',\n",
              " 'Kaggalipura',\n",
              " 'Kaikondrahalli',\n",
              " 'Kalena Agrahara',\n",
              " 'Kalyan nagar',\n",
              " 'Kambipura',\n",
              " 'Kammanahalli',\n",
              " 'Kammasandra',\n",
              " 'Kanakapura',\n",
              " 'Kanakpura Road',\n",
              " 'Kannamangala',\n",
              " 'Karuna Nagar',\n",
              " 'Kasavanhalli',\n",
              " 'Kasturi Nagar',\n",
              " 'Kathriguppe',\n",
              " 'Kaval Byrasandra',\n",
              " 'Kenchenahalli',\n",
              " 'Kengeri',\n",
              " 'Kengeri Satellite Town',\n",
              " 'Kereguddadahalli',\n",
              " 'Kodichikkanahalli',\n",
              " 'Kodigehaali',\n",
              " 'Kodigehalli',\n",
              " 'Kodihalli',\n",
              " 'Kogilu',\n",
              " 'Konanakunte',\n",
              " 'Koramangala',\n",
              " 'Kothannur',\n",
              " 'Kothanur',\n",
              " 'Kudlu',\n",
              " 'Kudlu Gate',\n",
              " 'Kumaraswami Layout',\n",
              " 'Kundalahalli',\n",
              " 'LB Shastri Nagar',\n",
              " 'Laggere',\n",
              " 'Lakshminarayana Pura',\n",
              " 'Lingadheeranahalli',\n",
              " 'Magadi Road',\n",
              " 'Mahadevpura',\n",
              " 'Mahalakshmi Layout',\n",
              " 'Mallasandra',\n",
              " 'Malleshpalya',\n",
              " 'Malleshwaram',\n",
              " 'Marathahalli',\n",
              " 'Margondanahalli',\n",
              " 'Marsur',\n",
              " 'Mico Layout',\n",
              " 'Munnekollal',\n",
              " 'Murugeshpalya',\n",
              " 'Mysore Road',\n",
              " 'NGR Layout',\n",
              " 'NRI Layout',\n",
              " 'Nagarbhavi',\n",
              " 'Nagasandra',\n",
              " 'Nagavara',\n",
              " 'Nagavarapalya',\n",
              " 'Narayanapura',\n",
              " 'Neeladri Nagar',\n",
              " 'Nehru Nagar',\n",
              " 'OMBR Layout',\n",
              " 'Old Airport Road',\n",
              " 'Old Madras Road',\n",
              " 'Other',\n",
              " 'Padmanabhanagar',\n",
              " 'Pai Layout',\n",
              " 'Panathur',\n",
              " 'Parappana Agrahara',\n",
              " 'Pattandur Agrahara',\n",
              " 'Poorna Pragna Layout',\n",
              " 'Prithvi Layout',\n",
              " 'R.T. Nagar',\n",
              " 'Rachenahalli',\n",
              " 'Raja Rajeshwari Nagar',\n",
              " 'Rajaji Nagar',\n",
              " 'Rajiv Nagar',\n",
              " 'Ramagondanahalli',\n",
              " 'Ramamurthy Nagar',\n",
              " 'Rayasandra',\n",
              " 'Sahakara Nagar',\n",
              " 'Sanjay nagar',\n",
              " 'Sarakki Nagar',\n",
              " 'Sarjapur',\n",
              " 'Sarjapur  Road',\n",
              " 'Sarjapura - Attibele Road',\n",
              " 'Sector 2 HSR Layout',\n",
              " 'Sector 7 HSR Layout',\n",
              " 'Seegehalli',\n",
              " 'Shampura',\n",
              " 'Shivaji Nagar',\n",
              " 'Singasandra',\n",
              " 'Somasundara Palya',\n",
              " 'Sompura',\n",
              " 'Sonnenahalli',\n",
              " 'Subramanyapura',\n",
              " 'Sultan Palaya',\n",
              " 'TC Palaya',\n",
              " 'Talaghattapura',\n",
              " 'Thanisandra',\n",
              " 'Thigalarapalya',\n",
              " 'Thubarahalli',\n",
              " 'Thyagaraja Nagar',\n",
              " 'Tindlu',\n",
              " 'Tumkur Road',\n",
              " 'Ulsoor',\n",
              " 'Uttarahalli',\n",
              " 'Varthur',\n",
              " 'Varthur Road',\n",
              " 'Vasanthapura',\n",
              " 'Vidyaranyapura',\n",
              " 'Vijayanagar',\n",
              " 'Vishveshwarya Layout',\n",
              " 'Vishwapriya Layout',\n",
              " 'Vittasandra',\n",
              " 'Whitefield',\n",
              " 'Yelachenahalli',\n",
              " 'Yelahanka',\n",
              " 'Yelahanka New Town',\n",
              " 'Yelenahalli',\n",
              " 'Yeshwanthpur']"
            ]
          },
          "execution_count": 39,
          "metadata": {},
          "output_type": "execute_result"
        }
      ],
      "source": [
        "list(X.columns)[3:]"
      ]
    },
    {
      "cell_type": "code",
      "execution_count": null,
      "metadata": {
        "id": "ElNnJPvMYw6j"
      },
      "outputs": [],
      "source": [
        "params = {\n",
        "    'columns': list(X.columns)[3:],\n",
        "    'prefix': 3\n",
        "}\n",
        "\n",
        "with open(\"params.pickle\", 'wb') as f:\n",
        "    pickle.dump(params, f)\n"
      ]
    }
  ],
  "metadata": {
    "colab": {
      "provenance": []
    },
    "kernelspec": {
      "display_name": "Python 3",
      "language": "python",
      "name": "python3"
    },
    "language_info": {
      "codemirror_mode": {
        "name": "ipython",
        "version": 3
      },
      "file_extension": ".py",
      "mimetype": "text/x-python",
      "name": "python",
      "nbconvert_exporter": "python",
      "pygments_lexer": "ipython3",
      "version": "3.12.4"
    }
  },
  "nbformat": 4,
  "nbformat_minor": 0
}
